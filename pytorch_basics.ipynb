{
  "nbformat": 4,
  "nbformat_minor": 0,
  "metadata": {
    "colab": {
      "provenance": [],
      "gpuType": "T4"
    },
    "kernelspec": {
      "name": "python3",
      "display_name": "Python 3"
    },
    "language_info": {
      "name": "python"
    },
    "accelerator": "GPU"
  },
  "cells": [
    {
      "cell_type": "markdown",
      "source": [
        "## 1 - Tensores\n",
        "Tudo no Pytorch é baseado em operações com Tensores. Um Tensor é uma matriz multidimensional contendo elementos de um único tipo de dados."
      ],
      "metadata": {
        "id": "6u4bsZ0F5j_o"
      }
    },
    {
      "cell_type": "code",
      "execution_count": null,
      "metadata": {
        "id": "ILoWkOMM5GZD"
      },
      "outputs": [],
      "source": [
        "# importando biblioteca\n",
        "import torch"
      ]
    },
    {
      "cell_type": "code",
      "source": [
        "# inicializando tensores\n",
        "\n",
        "# tensores com valores vazios: .empty()\n",
        "empty_1 = torch.empty(1) # adiciona 1 valor em 1 linha (escalar)\n",
        "empty_2 = torch.empty(5) # adiciona 5 valores em 1 linha (vetor)\n",
        "empty_3 = torch.empty(3, 5) # adiciona 3 valores em 5 linhas (matriz bidimensional)\n",
        "empty_4 = torch.empty(2, 3, 2) # adiciona 2 valores em 3 linhas, com profundidade 2 (tensor, 3 dimensões)\n",
        "\n",
        "print(f\"{empty_1}\\n\\n{empty_2}\\n\\n{empty_3}\\n\\n{empty_4}\")"
      ],
      "metadata": {
        "colab": {
          "base_uri": "https://localhost:8080/"
        },
        "id": "a_libooS6Kit",
        "outputId": "0eceef6b-cddd-4cf4-d12a-50996d02c948"
      },
      "execution_count": null,
      "outputs": [
        {
          "output_type": "stream",
          "name": "stdout",
          "text": [
            "tensor([8.2728e-10])\n",
            "\n",
            "tensor([1.6403e-38, 0.0000e+00, 1.6402e-38, 0.0000e+00, 1.6402e-38])\n",
            "\n",
            "tensor([[1.1221e-16, 4.5377e-41, 1.1221e-16, 4.5377e-41, 2.0108e-19],\n",
            "        [1.7841e+25, 1.9093e-19, 7.2719e+31, 8.1586e-33, 7.6194e+31],\n",
            "        [1.5193e-19, 7.5553e+28, 5.2839e-11, 7.6194e+31, 2.5460e-12]])\n",
            "\n",
            "tensor([[[0.0000e+00, 0.0000e+00],\n",
            "         [1.4153e-43, 0.0000e+00],\n",
            "         [9.8091e-45, 9.8091e-45]],\n",
            "\n",
            "        [[1.4013e-44, 2.1019e-44],\n",
            "         [0.0000e+00, 0.0000e+00],\n",
            "         [0.0000e+00, 0.0000e+00]]])\n"
          ]
        }
      ]
    },
    {
      "cell_type": "code",
      "source": [
        "# tensores com valores 1 ou 0: .zeros() e .ones()\n",
        "x_1 = torch.zeros(5) # adiciona 5 zeros em 1 linha\n",
        "x_2 = torch.ones(5, 1) # adiciona 5 uns em 1 coluna\n",
        "x_3 = torch.zeros(3, 5) # matriz bidimensional com zeros\n",
        "x_4 = torch.ones(2, 3, 2) # tensor de 3 dimensões com uns\n",
        "\n",
        "print(f\"{x_1}\\n\\n{x_2}\\n\\n{x_3}\\n\\n{x_4}\")"
      ],
      "metadata": {
        "colab": {
          "base_uri": "https://localhost:8080/"
        },
        "id": "sPalPFIp8cwN",
        "outputId": "96dc0516-a62e-4fbf-c9af-bf6316572b53"
      },
      "execution_count": null,
      "outputs": [
        {
          "output_type": "stream",
          "name": "stdout",
          "text": [
            "tensor([0., 0., 0., 0., 0.])\n",
            "\n",
            "tensor([[1.],\n",
            "        [1.],\n",
            "        [1.],\n",
            "        [1.],\n",
            "        [1.]])\n",
            "\n",
            "tensor([[0., 0., 0., 0., 0.],\n",
            "        [0., 0., 0., 0., 0.],\n",
            "        [0., 0., 0., 0., 0.]])\n",
            "\n",
            "tensor([[[1., 1.],\n",
            "         [1., 1.],\n",
            "         [1., 1.]],\n",
            "\n",
            "        [[1., 1.],\n",
            "         [1., 1.],\n",
            "         [1., 1.]]])\n"
          ]
        }
      ]
    },
    {
      "cell_type": "code",
      "source": [
        "# verificando tamanho de um tensor: .size() ou .shape\n",
        "print(f\"Tamanho de x_4 -> {x_4.size()}\")\n",
        "print(f\"Tamanho de x_4 -> {x_4.shape}\")\n",
        "\n",
        "# para tamanho de uma dimensão específica: .size() ou .shape\n",
        "print(f\"\\nTamanho de x_4 -> {x_4.size(0)}\")\n",
        "print(f\"Tamanho de x_4 -> {x_4.shape[0]}\")"
      ],
      "metadata": {
        "colab": {
          "base_uri": "https://localhost:8080/"
        },
        "id": "mhj2s0va-D9N",
        "outputId": "815492dd-829d-4fb1-b3a9-4b3a3c076e98"
      },
      "execution_count": null,
      "outputs": [
        {
          "output_type": "stream",
          "name": "stdout",
          "text": [
            "Tamanho de x_4 -> torch.Size([2, 3, 2])\n",
            "Tamanho de x_4 -> torch.Size([2, 3, 2])\n",
            "\n",
            "Tamanho de x_4 -> 2\n",
            "Tamanho de x_4 -> 2\n"
          ]
        }
      ]
    },
    {
      "cell_type": "code",
      "source": [
        "# verificando o tipo dos dados\n",
        "print(f\"Tipo de x_4 -> {x_4.dtype}\")\n",
        "\n",
        "# criando um tensor com tipo de dados específico\n",
        "x_5 = torch.zeros(3, 5, dtype=torch.float16)\n",
        "\n",
        "print(f\"\\nTipo de x_5 -> {x_5.dtype}\")"
      ],
      "metadata": {
        "colab": {
          "base_uri": "https://localhost:8080/"
        },
        "id": "Ud_2nA_p_O7y",
        "outputId": "b928186a-3013-4480-ff86-0e7a3bf175ed"
      },
      "execution_count": null,
      "outputs": [
        {
          "output_type": "stream",
          "name": "stdout",
          "text": [
            "Tipo de x_4 -> torch.float32\n",
            "\n",
            "Tipo de x_5 -> torch.float16\n"
          ]
        }
      ]
    },
    {
      "cell_type": "code",
      "source": [
        "# criando tensor através de outro elemento (listas ou arrays numpy)\n",
        "lista_exemplo = [3.3, 5]\n",
        "x_6 = torch.tensor(lista_exemplo)\n",
        "\n",
        "print(f\"{x_6}, tipo -> {x_6.dtype}\")"
      ],
      "metadata": {
        "colab": {
          "base_uri": "https://localhost:8080/"
        },
        "id": "jgEI_1pVAOms",
        "outputId": "cbd3cb6d-8acb-40f5-9bef-e94d960ca376"
      },
      "execution_count": null,
      "outputs": [
        {
          "output_type": "stream",
          "name": "stdout",
          "text": [
            "tensor([3.3000, 5.0000]), tipo -> torch.float32\n"
          ]
        }
      ]
    },
    {
      "cell_type": "code",
      "source": [
        "# argumento de cálculo de gradientes: requires_grad\n",
        "# só é necessário caso seja preciso otimizar\n",
        "x_7 = torch.tensor([3.3, 5], requires_grad=True)\n",
        "\n",
        "print(x_7)"
      ],
      "metadata": {
        "colab": {
          "base_uri": "https://localhost:8080/"
        },
        "id": "eFKjY9DmBTgb",
        "outputId": "5f461910-b510-483c-9f61-dbc2a4efd5ae"
      },
      "execution_count": null,
      "outputs": [
        {
          "output_type": "stream",
          "name": "stdout",
          "text": [
            "tensor([3.3000, 5.0000], requires_grad=True)\n"
          ]
        }
      ]
    },
    {
      "cell_type": "code",
      "source": [
        "# operações com tensores\n",
        "\n",
        "x1 = torch.rand(2, 2)\n",
        "x2 = torch.rand(2, 2)\n",
        "x3 = torch.rand(2, 2)\n",
        "x4 = torch.rand(2, 2)\n",
        "x5 = torch.ones(2, 2)\n",
        "x6 = torch.ones(2, 2)\n",
        "x7 = torch.rand(2, 2)\n",
        "x8 = torch.ones(2, 2)\n",
        "\n",
        "# adição\n",
        "x = x1 + x2 # ou x = torch.add(x1, x2)\n",
        "\n",
        "# subtração\n",
        "y = x3 - x4 # ou y = torch.sub(x3, x4)\n",
        "\n",
        "# multiplicação\n",
        "z = x5 * x6 # ou z = torch.mul(x5, x6)\n",
        "\n",
        "# divisão\n",
        "w = x7 / x8 # w = torch.div(x7, x8)\n",
        "\n",
        "print(f\"{x}\\n\\n{y}\\n\\n{z}\\n\\n{w}\")"
      ],
      "metadata": {
        "colab": {
          "base_uri": "https://localhost:8080/"
        },
        "id": "_r6aa3jaB7nj",
        "outputId": "370f3e14-c749-4bf5-b808-fccd7e285f12"
      },
      "execution_count": null,
      "outputs": [
        {
          "output_type": "stream",
          "name": "stdout",
          "text": [
            "tensor([[1.2749, 0.4349],\n",
            "        [1.1356, 1.4461]])\n",
            "\n",
            "tensor([[-0.7903,  0.2725],\n",
            "        [-0.3056, -0.5766]])\n",
            "\n",
            "tensor([[1., 1.],\n",
            "        [1., 1.]])\n",
            "\n",
            "tensor([[0.0086, 0.4947],\n",
            "        [0.7949, 0.9462]])\n"
          ]
        }
      ]
    },
    {
      "cell_type": "code",
      "source": [
        "# recorte de tensores funciona como uma lista python\n",
        "print(x_5[1,:])\n",
        "\n",
        "# acessando elemento específico: .item()\n",
        "print(x_5[1, 3].item())"
      ],
      "metadata": {
        "colab": {
          "base_uri": "https://localhost:8080/"
        },
        "id": "V2jaWBV9EeKq",
        "outputId": "b392dbcb-0a9f-45a6-fcc9-f6f68fc4e8d4"
      },
      "execution_count": null,
      "outputs": [
        {
          "output_type": "stream",
          "name": "stdout",
          "text": [
            "tensor([0., 0., 0., 0., 0.], dtype=torch.float16)\n",
            "0.0\n"
          ]
        }
      ]
    },
    {
      "cell_type": "code",
      "source": [
        "# mudando a forma de um tensor: .view()\n",
        "x_8 = torch.ones(32) # criando um vetor de uns com 32 elementos\n",
        "print(f\"formato: {x_8.shape}\\n{x_8}\")\n",
        "\n",
        "# transformando em uma matriz 8x4\n",
        "x_9 = x_8.view(8, 4)\n",
        "print(f\"\\nformato: {x_9.shape}\\n{x_9}\")\n",
        "\n",
        "# -1 pode ser usado como parâmetro para ajustar automaticamente a outra dimensão\n",
        "# transformando em uma matriz 16x2\n",
        "x_10 = x_8.view(16, -1) # -1 nesse caso ajustará a quantidade de colunas automaticamente para 2\n",
        "print(f\"\\nformato: {x_10.shape}\\n{x_10}\")"
      ],
      "metadata": {
        "colab": {
          "base_uri": "https://localhost:8080/"
        },
        "id": "ILsyNw59GhSz",
        "outputId": "eb0e0600-5b30-4094-f284-2137ec317f0c"
      },
      "execution_count": null,
      "outputs": [
        {
          "output_type": "stream",
          "name": "stdout",
          "text": [
            "formato: torch.Size([32])\n",
            "tensor([1., 1., 1., 1., 1., 1., 1., 1., 1., 1., 1., 1., 1., 1., 1., 1., 1., 1.,\n",
            "        1., 1., 1., 1., 1., 1., 1., 1., 1., 1., 1., 1., 1., 1.])\n",
            "\n",
            "formato: torch.Size([8, 4])\n",
            "tensor([[1., 1., 1., 1.],\n",
            "        [1., 1., 1., 1.],\n",
            "        [1., 1., 1., 1.],\n",
            "        [1., 1., 1., 1.],\n",
            "        [1., 1., 1., 1.],\n",
            "        [1., 1., 1., 1.],\n",
            "        [1., 1., 1., 1.],\n",
            "        [1., 1., 1., 1.]])\n",
            "\n",
            "formato: torch.Size([16, 2])\n",
            "tensor([[1., 1.],\n",
            "        [1., 1.],\n",
            "        [1., 1.],\n",
            "        [1., 1.],\n",
            "        [1., 1.],\n",
            "        [1., 1.],\n",
            "        [1., 1.],\n",
            "        [1., 1.],\n",
            "        [1., 1.],\n",
            "        [1., 1.],\n",
            "        [1., 1.],\n",
            "        [1., 1.],\n",
            "        [1., 1.],\n",
            "        [1., 1.],\n",
            "        [1., 1.],\n",
            "        [1., 1.]])\n"
          ]
        }
      ]
    },
    {
      "cell_type": "code",
      "source": [
        "# convertendo tensor <-> array numpy\n",
        "\n",
        "# importação do numpy: .numpy()\n",
        "import numpy as np\n",
        "\n",
        "# tensor -> array numpy\n",
        "a = torch.ones(3)\n",
        "b = a.numpy()\n",
        "\n",
        "print(f\"{type(a)}\\n{type(b)}\")\n",
        "\n",
        "'''\n",
        "  OBS: se o tensor \"a\" estiverer na CPU, eles compartilharão o mesmo endereço de memória,\n",
        "  ou seja, qualquer modificação mudará ambos os elementos.\n",
        "'''\n",
        "\n",
        "# array numpy -> tensor: .from_numpy e .tensor()\n",
        "c = np.ones(3)\n",
        "d = torch.from_numpy(c) # \"d\" e \"c\" compartilharão o mesmo endereço de memória\n",
        "e = torch.tensor(c) # \"e\" será apenas uma cópia de \"c\" em formato de tensor\n",
        "\n",
        "print(f\"\\n{type(c)}\\n{type(d)}\\n{type(e)}\")"
      ],
      "metadata": {
        "colab": {
          "base_uri": "https://localhost:8080/"
        },
        "id": "uR5bvFvjdqei",
        "outputId": "105c7ac7-a3ca-488d-a4d0-ded741f04ee2"
      },
      "execution_count": null,
      "outputs": [
        {
          "output_type": "stream",
          "name": "stdout",
          "text": [
            "<class 'torch.Tensor'>\n",
            "<class 'numpy.ndarray'>\n",
            "\n",
            "<class 'numpy.ndarray'>\n",
            "<class 'torch.Tensor'>\n",
            "<class 'torch.Tensor'>\n"
          ]
        }
      ]
    },
    {
      "cell_type": "code",
      "source": [
        "# suporte para GPUs\n",
        "'''\n",
        "  Por padrão todos os tensores são criados na CPU, mas é possível não só movê-los\n",
        "  para a GPU, como também criá-los diretamente na GPU.\n",
        "'''\n",
        "\n",
        "# acessando um dispositivo (CPU ou GPU) e dando apelidos\n",
        "device = torch.device('cuda' if torch.cuda.is_available() else 'cpu')\n",
        "\n",
        "# movendo um tensor para a GPU\n",
        "t1 = torch.rand(2, 2).to(device)\n",
        "\n",
        "# criando um tensor diretamente na GPU\n",
        "t2 = torch.rand(2, 2, device=device)\n",
        "\n",
        "print(f\"{t1}\\n\\n{t2}\")"
      ],
      "metadata": {
        "colab": {
          "base_uri": "https://localhost:8080/"
        },
        "id": "2Q23eYh5ec57",
        "outputId": "efeca777-e971-435b-9b10-a84032839235"
      },
      "execution_count": null,
      "outputs": [
        {
          "output_type": "stream",
          "name": "stdout",
          "text": [
            "tensor([[0.5799, 0.3675],\n",
            "        [0.1491, 0.8261]], device='cuda:0')\n",
            "\n",
            "tensor([[0.1489, 0.9888],\n",
            "        [0.0519, 0.4717]], device='cuda:0')\n"
          ]
        }
      ]
    },
    {
      "cell_type": "markdown",
      "source": [
        "## 2 - Autograd (diferenciação automática)\n",
        "Esse mecanismo acompanha todas as operações feitas em tensores que tem ```requires_grad=True``` e calcula as derivadas (gradientes) automáticamente. Em treinamentos de redes neurais o gradiente descendente é necessário para o ajuste dos pesos."
      ],
      "metadata": {
        "id": "9p1xddPllINR"
      }
    },
    {
      "cell_type": "code",
      "source": [
        "# criando um tensor com requires_grad=True\n",
        "ts1 = torch.randn(3, requires_grad=True)\n",
        "\n",
        "# realizando operações\n",
        "ts2 = ts1 + 5\n",
        "ts3 = ts2 * 2\n",
        "ts4 = ts3.mean()\n",
        "\n",
        "print(f\"Tensores:\\n\\n{ts1}\\n\\n{ts2}\\n\\n{ts3}\\n\\n{ts4.grad_fn}\\n\\n\")\n",
        "\n",
        "# calculando o gradiente de ts1\n",
        "print(f\"Antes do cálculo -> {ts1.grad}\\n\")\n",
        "ts4.backward()\n",
        "print(f\"Depois de cálculo -> {ts1.grad}\") # d(ts4)/d(ts1)\n",
        "\n",
        "\n",
        "# OBS: backward() acumula o gradiente para esse tensor, então é necessário usar\n",
        "# optimizer.zero_grad() durante a etapa de otimização.\n"
      ],
      "metadata": {
        "colab": {
          "base_uri": "https://localhost:8080/"
        },
        "id": "y01fSwDQjSgS",
        "outputId": "fc8f6309-f963-497f-8aaf-f16a14e5884e"
      },
      "execution_count": null,
      "outputs": [
        {
          "output_type": "stream",
          "name": "stdout",
          "text": [
            "Tensores:\n",
            "\n",
            "tensor([ 1.8725,  0.6819, -0.7610], requires_grad=True)\n",
            "\n",
            "tensor([6.8725, 5.6819, 4.2390], grad_fn=<AddBackward0>)\n",
            "\n",
            "tensor([13.7450, 11.3637,  8.4780], grad_fn=<MulBackward0>)\n",
            "\n",
            "<MeanBackward0 object at 0x7e7e0249baf0>\n",
            "\n",
            "\n",
            "Antes do cálculo -> None\n",
            "\n",
            "Depois de cálculo -> tensor([0.6667, 0.6667, 0.6667])\n"
          ]
        }
      ]
    },
    {
      "cell_type": "code",
      "source": [
        "# ignorando o calculo do gradiente\n",
        "# útil em algumas situações, como durante o treinamento, ou durante a validação\n",
        "\n",
        "# primeiro método: requires_grad_()\n",
        "print(\"Primeiro método\")\n",
        "a = torch.randn(2, 2, requires_grad=True) # tensor que acompanha o gradiente\n",
        "print(f\"Antes da conversão -> {a.requires_grad}\")\n",
        "a.requires_grad_(False)\n",
        "print(f\"Depois da conversão -> {a.requires_grad}\\n\")\n",
        "\n",
        "# segundo método: with torch.no_grad()\n",
        "print(\"Segundo método\")\n",
        "b = torch.randn(2, 2, requires_grad=True)\n",
        "print(f\"Fora do escopo -> {b.requires_grad}\")\n",
        "with torch.no_grad():\n",
        "  c = b + a\n",
        "  print(f\"Dentro do escopo -> {c.requires_grad}\")"
      ],
      "metadata": {
        "colab": {
          "base_uri": "https://localhost:8080/"
        },
        "id": "bYccMHCcnkJx",
        "outputId": "2aa5466e-28bd-4637-d1ec-3e551c03ca58"
      },
      "execution_count": null,
      "outputs": [
        {
          "output_type": "stream",
          "name": "stdout",
          "text": [
            "Primeiro método\n",
            "Antes da conversão -> True\n",
            "Depois da conversão -> False\n",
            "\n",
            "Segundo método\n",
            "Fora do escopo -> True\n",
            "Dentro do escopo -> False\n"
          ]
        }
      ]
    },
    {
      "cell_type": "markdown",
      "source": [
        "## 3 - Pipeline PyTorch - Model, Loss e Optimizer\n",
        "1. Criação do modelo (input, output, forward pass com camadas diferentes)\n",
        "2. Contrução Loss e Optimizer\n",
        "3. Loop de treinamento:\n",
        "    - Forward: calcula a previsão e a perda(loss)\n",
        "    - Backward: calcula os gradientes\n",
        "    - Atualiza os pesos"
      ],
      "metadata": {
        "id": "GhEoTBoRwC7Y"
      }
    },
    {
      "cell_type": "code",
      "source": [
        "import torch\n",
        "import torch.nn as nn # nn significa \"neural network\"\n",
        "\n",
        "# regressão linear utilizando a pipeline clássica do pytorch\n",
        "# f = w * x\n",
        "# aqui teremos f = 2 * x\n",
        "\n",
        "# criação de amostras de treinamento: elas precisam estar em um formato específico [[x]]\n",
        "X = torch.tensor([[1], [2], [3], [4], [5], [6], [7], [8]], dtype=torch.float32)\n",
        "Y = torch.tensor([[2], [4], [6], [8], [10], [12], [14], [16]], dtype=torch.float32)\n",
        "\n",
        "n_samples, n_features = X.shape\n",
        "print(f\"Quantidade de amostras -> {n_samples}\\nQuantidade de características -> {n_features}\")\n",
        "print(f\"Ou seja, é um tensor {n_samples}x{n_features}\")\n",
        "\n",
        "# criação de amostra de teste\n",
        "X_test = torch.tensor([5], dtype=torch.float32)"
      ],
      "metadata": {
        "id": "-q0bALNis8pf",
        "colab": {
          "base_uri": "https://localhost:8080/"
        },
        "outputId": "9c55925a-fe17-4a0e-8cd3-b77f4b3a77e1"
      },
      "execution_count": null,
      "outputs": [
        {
          "output_type": "stream",
          "name": "stdout",
          "text": [
            "Quantidade de amostras -> 8\n",
            "Quantidade de características -> 1\n",
            "Ou seja, é um tensor 8x1\n"
          ]
        }
      ]
    },
    {
      "cell_type": "code",
      "source": [
        "# 1. Criação do modelo utilizando um já implementado no PyTorch\n",
        "# model = nn.Linear(input_size, output_size)\n",
        "\n",
        "class LinearRegression(nn.Module):\n",
        "  def __init__(self, input_dim, output_dim):\n",
        "    super(LinearRegression, self).__init__()\n",
        "\n",
        "    # IMPORTANTE: aqui se define as diferentes camadas da rede neural\n",
        "    # só usaremos 1 camada para ese exemplo\n",
        "    self.lin = nn.Linear(input_dim, output_dim)\n",
        "\n",
        "  # função para o forward pass\n",
        "  def forward(self, x):\n",
        "    return self.lin(x)\n",
        "\n",
        "input_size, output_size = n_features, n_features\n",
        "\n",
        "model = LinearRegression(input_size, output_size)\n",
        "\n",
        "print(f\"previsão antes do treinamento: f({X_test.item()}) = {model(X_test).item():.3f}\")\n"
      ],
      "metadata": {
        "colab": {
          "base_uri": "https://localhost:8080/"
        },
        "id": "3J__2tKM4atp",
        "outputId": "35f3bd37-57bd-4e97-bfa3-2b12e5f761ab"
      },
      "execution_count": null,
      "outputs": [
        {
          "output_type": "stream",
          "name": "stdout",
          "text": [
            "previsão antes do treinamento: f(5.0) = -2.893\n"
          ]
        }
      ]
    },
    {
      "cell_type": "code",
      "source": [
        "# 2. definição da perda e do otimizador\n",
        "learning_rate = 0.01 # pode ser modificado dependendo da arquitetura da rede, quantidade de amostras, etc\n",
        "n_epochs = 100 # quantidade de épocas de treinamento, também pode ser modificado de acordo com o texto acima\n",
        "\n",
        "loss = nn.MSELoss() # diretamente do pytorch\n",
        "\n",
        "# há outros otimizadores, mas aqui utilizaremos o SGD (Stochastic Gradient Descent)\n",
        "optimizer = torch.optim.SGD(model.parameters(), lr=learning_rate)\n",
        "\n",
        "# 3. Loop de treinamento\n",
        "for epoch in range(n_epochs):\n",
        "\n",
        "  # execução do forward pass do nosso modelo\n",
        "  y_predicted = model(X)\n",
        "\n",
        "  # cálculo da perda\n",
        "  l = loss(Y, y_predicted)\n",
        "\n",
        "  # calcula os gradientes: backward pass\n",
        "  l.backward()\n",
        "\n",
        "  # atualização dos pesos pelo otimizador\n",
        "  optimizer.step()\n",
        "\n",
        "  # zerando os gradientes depois da atualização dos pesos\n",
        "  optimizer.zero_grad()\n",
        "\n",
        "  # exibindo os parâmetros\n",
        "  if (epoch+1) % 10 == 0:\n",
        "    w, b = model.parameters() # extração\n",
        "    print(f\"Época {epoch+1}: w = {w[0][0].item()} perda(loss) = {l.item()}\")\n",
        "\n",
        "print(f\"\\nprevisão depois do treinamento: f({X_test.item()}) = {model(X_test).item():.3f}\")"
      ],
      "metadata": {
        "colab": {
          "base_uri": "https://localhost:8080/"
        },
        "id": "fr69bmIO7Z-5",
        "outputId": "e8c045e8-d3cb-4c3b-df48-16d3b830f81f"
      },
      "execution_count": null,
      "outputs": [
        {
          "output_type": "stream",
          "name": "stdout",
          "text": [
            "Época 10: w = 1.8947877883911133 perda(loss) = 0.07092033326625824\n",
            "Época 20: w = 1.9002894163131714 perda(loss) = 0.06523827463388443\n",
            "Época 30: w = 1.9042001962661743 perda(loss) = 0.060222137719392776\n",
            "Época 40: w = 1.907956838607788 perda(loss) = 0.05559170991182327\n",
            "Época 50: w = 1.9115662574768066 perda(loss) = 0.05131729692220688\n",
            "Época 60: w = 1.9150340557098389 perda(loss) = 0.04737149924039841\n",
            "Época 70: w = 1.9183658361434937 perda(loss) = 0.04372917488217354\n",
            "Época 80: w = 1.9215670824050903 perda(loss) = 0.04036681354045868\n",
            "Época 90: w = 1.9246426820755005 perda(loss) = 0.03726299852132797\n",
            "Época 100: w = 1.9275976419448853 perda(loss) = 0.03439785912632942\n",
            "\n",
            "previsão depois do treinamento: f(5.0) = 10.045\n"
          ]
        }
      ]
    },
    {
      "cell_type": "code",
      "source": [],
      "metadata": {
        "id": "MDfPH0ak_b1m"
      },
      "execution_count": null,
      "outputs": []
    }
  ]
}